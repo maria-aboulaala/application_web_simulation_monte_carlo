{
 "cells": [
  {
   "cell_type": "code",
   "execution_count": 1,
   "metadata": {},
   "outputs": [],
   "source": [
    "\n",
    "import pandas as pd\n",
    "import matplotlib.pyplot as plt\n",
    "import numpy as np\n",
    "import datetime as dt\n"
   ]
  },
  {
   "cell_type": "code",
   "execution_count": null,
   "metadata": {},
   "outputs": [],
   "source": [
    "Un mouvement brownien  \\{$W_t$: t$\\geq$0\\} avec $\\mu$=0 et $\\sigma$=1 est appelé mouvement brownien standard. Dans ce cas $W_t$ a une moyenne 0 et une variance t.\n",
    "                N’importe quel mouvement brownien \\{$W_t$: t$\\geq$0\\} de d´erive $\\mu$\n",
    "                st.latex(et de variance $\\sigma^2$ peut alors s’´ecrire $W_t$ = $\\mu$t + $\\sigma$Z_t$ \\{$Z_t$: t$\\geq$0\\} est un mouvement brownien standard.)\n",
    "                For an indication of uncertainty, the following 1-$\\sigma$ errors\n",
    "                were observed when comparing model predictions to an independent\n",
    "                test set of experimental observations:\n",
    "                - Glass transition temperature: 19 K\n",
    "                - Density: 0.02 g/cm\\u00b3\n",
    "                - Optical refractive index: 0.006\n",
    "                - Configurational entropy: 0.9 J/(mol K)\n",
    "                The Vogel-Fulcher-Tammann (VFT) equation given assumes that $T$ is\n",
    "                specified in degrees Kelvin."
   ]
  }
 ],
 "metadata": {
  "kernelspec": {
   "display_name": "Python 3.10.5 ('.venv': venv)",
   "language": "python",
   "name": "python3"
  },
  "language_info": {
   "codemirror_mode": {
    "name": "ipython",
    "version": 3
   },
   "file_extension": ".py",
   "mimetype": "text/x-python",
   "name": "python",
   "nbconvert_exporter": "python",
   "pygments_lexer": "ipython3",
   "version": "3.10.5"
  },
  "orig_nbformat": 4,
  "vscode": {
   "interpreter": {
    "hash": "614a0486a4f6a635d8ad53296057b63fc2aa82b0865b2e0ffef1a370863ff70f"
   }
  }
 },
 "nbformat": 4,
 "nbformat_minor": 2
}

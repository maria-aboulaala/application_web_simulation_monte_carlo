{
 "cells": [
  {
   "cell_type": "code",
   "execution_count": 3,
   "metadata": {},
   "outputs": [],
   "source": [
    "\n",
    "import pandas as pd\n",
    "import matplotlib.pyplot as plt\n",
    "import numpy as np\n",
    "import datetime as dt\n",
    "import yfinance as yf\n",
    "from datetime import datetime, timedelta\n"
   ]
  },
  {
   "cell_type": "code",
   "execution_count": 9,
   "metadata": {},
   "outputs": [
    {
     "name": "stdout",
     "output_type": "stream",
     "text": [
      "[*********************100%***********************]  1 of 1 completed\n"
     ]
    },
    {
     "data": {
      "text/html": [
       "<div>\n",
       "<style scoped>\n",
       "    .dataframe tbody tr th:only-of-type {\n",
       "        vertical-align: middle;\n",
       "    }\n",
       "\n",
       "    .dataframe tbody tr th {\n",
       "        vertical-align: top;\n",
       "    }\n",
       "\n",
       "    .dataframe thead th {\n",
       "        text-align: right;\n",
       "    }\n",
       "</style>\n",
       "<table border=\"1\" class=\"dataframe\">\n",
       "  <thead>\n",
       "    <tr style=\"text-align: right;\">\n",
       "      <th></th>\n",
       "      <th>Open</th>\n",
       "      <th>High</th>\n",
       "      <th>Low</th>\n",
       "      <th>Close</th>\n",
       "      <th>Adj Close</th>\n",
       "      <th>Volume</th>\n",
       "    </tr>\n",
       "    <tr>\n",
       "      <th>Date</th>\n",
       "      <th></th>\n",
       "      <th></th>\n",
       "      <th></th>\n",
       "      <th></th>\n",
       "      <th></th>\n",
       "      <th></th>\n",
       "    </tr>\n",
       "  </thead>\n",
       "  <tbody>\n",
       "    <tr>\n",
       "      <th>2021-11-29</th>\n",
       "      <td>159.369995</td>\n",
       "      <td>161.190002</td>\n",
       "      <td>158.789993</td>\n",
       "      <td>160.240005</td>\n",
       "      <td>159.315369</td>\n",
       "      <td>88748200</td>\n",
       "    </tr>\n",
       "    <tr>\n",
       "      <th>2021-11-30</th>\n",
       "      <td>159.990005</td>\n",
       "      <td>165.520004</td>\n",
       "      <td>159.919998</td>\n",
       "      <td>165.300003</td>\n",
       "      <td>164.346176</td>\n",
       "      <td>174048100</td>\n",
       "    </tr>\n",
       "    <tr>\n",
       "      <th>2021-12-01</th>\n",
       "      <td>167.479996</td>\n",
       "      <td>170.300003</td>\n",
       "      <td>164.529999</td>\n",
       "      <td>164.770004</td>\n",
       "      <td>163.819229</td>\n",
       "      <td>152052500</td>\n",
       "    </tr>\n",
       "    <tr>\n",
       "      <th>2021-12-02</th>\n",
       "      <td>158.740005</td>\n",
       "      <td>164.199997</td>\n",
       "      <td>157.800003</td>\n",
       "      <td>163.759995</td>\n",
       "      <td>162.815063</td>\n",
       "      <td>136739200</td>\n",
       "    </tr>\n",
       "    <tr>\n",
       "      <th>2021-12-03</th>\n",
       "      <td>164.020004</td>\n",
       "      <td>164.960007</td>\n",
       "      <td>159.720001</td>\n",
       "      <td>161.839996</td>\n",
       "      <td>160.906128</td>\n",
       "      <td>118023100</td>\n",
       "    </tr>\n",
       "    <tr>\n",
       "      <th>...</th>\n",
       "      <td>...</td>\n",
       "      <td>...</td>\n",
       "      <td>...</td>\n",
       "      <td>...</td>\n",
       "      <td>...</td>\n",
       "      <td>...</td>\n",
       "    </tr>\n",
       "    <tr>\n",
       "      <th>2022-11-18</th>\n",
       "      <td>152.309998</td>\n",
       "      <td>152.699997</td>\n",
       "      <td>149.970001</td>\n",
       "      <td>151.289993</td>\n",
       "      <td>151.289993</td>\n",
       "      <td>74794600</td>\n",
       "    </tr>\n",
       "    <tr>\n",
       "      <th>2022-11-21</th>\n",
       "      <td>150.160004</td>\n",
       "      <td>150.369995</td>\n",
       "      <td>147.720001</td>\n",
       "      <td>148.009995</td>\n",
       "      <td>148.009995</td>\n",
       "      <td>58724100</td>\n",
       "    </tr>\n",
       "    <tr>\n",
       "      <th>2022-11-22</th>\n",
       "      <td>148.130005</td>\n",
       "      <td>150.419998</td>\n",
       "      <td>146.929993</td>\n",
       "      <td>150.179993</td>\n",
       "      <td>150.179993</td>\n",
       "      <td>51804100</td>\n",
       "    </tr>\n",
       "    <tr>\n",
       "      <th>2022-11-23</th>\n",
       "      <td>149.449997</td>\n",
       "      <td>151.830002</td>\n",
       "      <td>149.339996</td>\n",
       "      <td>151.070007</td>\n",
       "      <td>151.070007</td>\n",
       "      <td>58301400</td>\n",
       "    </tr>\n",
       "    <tr>\n",
       "      <th>2022-11-25</th>\n",
       "      <td>148.309998</td>\n",
       "      <td>148.880005</td>\n",
       "      <td>147.119995</td>\n",
       "      <td>148.110001</td>\n",
       "      <td>148.110001</td>\n",
       "      <td>35195900</td>\n",
       "    </tr>\n",
       "  </tbody>\n",
       "</table>\n",
       "<p>251 rows × 6 columns</p>\n",
       "</div>"
      ],
      "text/plain": [
       "                  Open        High         Low       Close   Adj Close  \\\n",
       "Date                                                                     \n",
       "2021-11-29  159.369995  161.190002  158.789993  160.240005  159.315369   \n",
       "2021-11-30  159.990005  165.520004  159.919998  165.300003  164.346176   \n",
       "2021-12-01  167.479996  170.300003  164.529999  164.770004  163.819229   \n",
       "2021-12-02  158.740005  164.199997  157.800003  163.759995  162.815063   \n",
       "2021-12-03  164.020004  164.960007  159.720001  161.839996  160.906128   \n",
       "...                ...         ...         ...         ...         ...   \n",
       "2022-11-18  152.309998  152.699997  149.970001  151.289993  151.289993   \n",
       "2022-11-21  150.160004  150.369995  147.720001  148.009995  148.009995   \n",
       "2022-11-22  148.130005  150.419998  146.929993  150.179993  150.179993   \n",
       "2022-11-23  149.449997  151.830002  149.339996  151.070007  151.070007   \n",
       "2022-11-25  148.309998  148.880005  147.119995  148.110001  148.110001   \n",
       "\n",
       "               Volume  \n",
       "Date                   \n",
       "2021-11-29   88748200  \n",
       "2021-11-30  174048100  \n",
       "2021-12-01  152052500  \n",
       "2021-12-02  136739200  \n",
       "2021-12-03  118023100  \n",
       "...               ...  \n",
       "2022-11-18   74794600  \n",
       "2022-11-21   58724100  \n",
       "2022-11-22   51804100  \n",
       "2022-11-23   58301400  \n",
       "2022-11-25   35195900  \n",
       "\n",
       "[251 rows x 6 columns]"
      ]
     },
     "execution_count": 9,
     "metadata": {},
     "output_type": "execute_result"
    }
   ],
   "source": [
    "#download market data\n",
    "stock_name = 'AAPL'\n",
    "end_date = datetime.today()\n",
    "start_date = end_date - timedelta(days = 365)\n",
    "\n",
    "stock_data = yf.download(\n",
    "    stock_name,\n",
    "    start = start_date,\n",
    "    end= end_date\n",
    ")\n",
    "stock_data"
   ]
  },
  {
   "cell_type": "code",
   "execution_count": 10,
   "metadata": {},
   "outputs": [],
   "source": [
    "returns = np.log(1 + stock_data['Adj Close'].pct_change())"
   ]
  },
  {
   "cell_type": "code",
   "execution_count": 13,
   "metadata": {},
   "outputs": [],
   "source": [
    "mu , sigma = returns.mean(), returns.std()"
   ]
  },
  {
   "cell_type": "code",
   "execution_count": 16,
   "metadata": {},
   "outputs": [
    {
     "data": {
      "text/plain": [
       "0.012395547312896235"
      ]
     },
     "execution_count": 16,
     "metadata": {},
     "output_type": "execute_result"
    }
   ],
   "source": [
    "np.random.normal(mu, sigma)"
   ]
  },
  {
   "cell_type": "code",
   "execution_count": 18,
   "metadata": {},
   "outputs": [],
   "source": [
    "sim_rets = np.random.normal(mu, sigma, len(stock_data))"
   ]
  },
  {
   "cell_type": "code",
   "execution_count": 20,
   "metadata": {},
   "outputs": [],
   "source": [
    "initial_price = stock_data['Adj Close'].iloc[-1]"
   ]
  },
  {
   "cell_type": "code",
   "execution_count": 22,
   "metadata": {},
   "outputs": [],
   "source": [
    "sim_prices = initial_price * (sim_rets + 1 ).cumprod()"
   ]
  },
  {
   "cell_type": "code",
   "execution_count": 23,
   "metadata": {},
   "outputs": [
    {
     "data": {
      "text/plain": [
       "[<matplotlib.lines.Line2D at 0x1192c65f0>]"
      ]
     },
     "execution_count": 23,
     "metadata": {},
     "output_type": "execute_result"
    },
    {
     "data": {
      "image/png": "[encoded data removed]",
      "text/plain": [
       "<Figure size 640x480 with 1 Axes>"
      ]
     },
     "metadata": {},
     "output_type": "display_data"
    }
   ],
   "source": [
    "plt.plot(sim_prices)"
   ]
  }
 ],
 "metadata": {
  "kernelspec": {
   "display_name": "Python 3.10.5 ('.venv': venv)",
   "language": "python",
   "name": "python3"
  },
  "language_info": {
   "codemirror_mode": {
    "name": "ipython",
    "version": 3
   },
   "file_extension": ".py",
   "mimetype": "text/x-python",
   "name": "python",
   "nbconvert_exporter": "python",
   "pygments_lexer": "ipython3",
   "version": "3.10.5"
  },
  "orig_nbformat": 4,
  "vscode": {
   "interpreter": {
    "hash": "614a0486a4f6a635d8ad53296057b63fc2aa82b0865b2e0ffef1a370863ff70f"
   }
  }
 },
 "nbformat": 4,
 "nbformat_minor": 2
}
